{
 "cells": [
  {
   "cell_type": "markdown",
   "metadata": {},
   "source": [
    "# Spirals\n",
    "\n",
    "This Jupyter notebook should allow you to experiment with the plotting of logarithmic spirals using [Matplotlib](https://matplotlib.org/). Have a read through everything before you start running things.\n",
    "\n",
    "---\n",
    "\n",
    "We begin by importing useful libraries:"
   ]
  },
  {
   "cell_type": "code",
   "execution_count": null,
   "metadata": {},
   "outputs": [],
   "source": [
    "import numpy as np\n",
    "import matplotlib.pyplot as plt"
   ]
  },
  {
   "cell_type": "markdown",
   "metadata": {},
   "source": [
    "### Plotting a spiral\n",
    "\n",
    "We can now plot a spiral. We'll show how to plot a simple arithmetic (or Archimedean) spiral, and leave the logarithmic case to you. For this spiral, we'll plot a slightly scaled version of the simplest possible spiral: $r(\\theta) = \\dfrac{\\theta}{\\pi}$. In words, the radius of this spiral at any point is the angle (in radians) counted in units of $\\pi$.\n",
    "\n",
    "In Python if we want to use the constant $\\pi = 3.14159265..$ we can either define it ourselves or, better, use a constant from a library like NumPy; in this case since we've imported NumPy as `np`, we can get the constant $\\pi$ using `np.pi`.\n",
    "\n",
    "We name our variables as the name of the Greek letter so $\\theta$ becomes `theta`. $r$ stays as `r`.\n",
    "\n",
    "First off we define some limits for our variables. We'll start with $0 \\le \\theta \\le 6\\pi$, which should give us three complete turns. We also define `points_per_radian`. Mathematical functions are defined for every point in space, but computers cannot cope with an infinite number of values; instead we sample our function at this fixed number of points for each radian we plot. Too few, and the plot will look rough and unlike the real function; too many and our code will never be able to work out all of the values required and may crash. If you're curious, try altering this value once you've got the hang of things."
   ]
  },
  {
   "cell_type": "code",
   "execution_count": null,
   "metadata": {},
   "outputs": [],
   "source": [
    "# Define some useful parameters:\n",
    "\n",
    "theta_min = 0\n",
    "theta_max = 6 * np.pi\n",
    "points_per_radian = 20\n",
    "\n",
    "# Set up the array of points we're going to sample at to create a plot:\n",
    "\n",
    "theta_range = theta_max - theta_min\n",
    "theta_array = np.linspace(theta_min, theta_max, int(theta_range * points_per_radian))\n",
    "\n",
    "# Equation of the spiral:\n",
    "\n",
    "r_array = theta_array / np.pi  # r(theta) = theta/pi\n",
    "\n",
    "# Initialise a new figure and then plot the spiral:\n",
    "\n",
    "plt.figure(figsize=(6, 6))  # 'figsize' is the width and height\n",
    "plt.polar(theta_array, r_array, linewidth=3, color='blue')  # the first two arguments are the angle\n",
    "                                                            # and the radius at that angle: r(theta)\n",
    "    \n",
    "# Label the axes:\n",
    "\n",
    "plt.thetagrids(np.arange(0, 360, 90))          # set the positions of the theta labels\n",
    "plt.gca().set_rlabel_position(0)               # set the angle of the radius labels\n",
    "plt.gca().grid(linestyle='--', linewidth=0.5)  # make the grid thin and dashed\n",
    "\n",
    "# Display the result:\n",
    "\n",
    "plt.tight_layout()\n",
    "plt.show()"
   ]
  },
  {
   "cell_type": "markdown",
   "metadata": {},
   "source": [
    "### Exploring the parameters\n",
    "\n",
    "We started off plotting $0 \\le \\theta \\le 6\\pi$ (i.e. `theta_min = 0`, `theta_max = 6*np.pi`), which produced a simple spiral that made three complete turns. It started at the origin and the radius increased linearly with the angle. The polar plot means that we see angles larger than $2\\pi$ (or $360^{\\circ}$) back in the range $0$ to $2\\pi$, and so see a continuous spiral. (Imagine rotating a pencil by $450^{\\circ}$; we cannot see the difference in the final position between this and a rotation of just $90^{\\circ}$, except that here the spiral radius increases with angle unlike a pencil of fixed length. The spiral is more like unwinding a coil of string whilst pulling it taut).\n",
    "\n",
    "When you're running this notebook yourself for the first time, go to the menu at the top and click \"Cell\" -> \"Run All\". Look at the plot this produces above. To explore, you can change the parameters in the cell above and press `Ctrl-Enter` to re-run that cell and update the plot. You may want to try some or all of the suggestions below, to get a feel for logarithmic spirals.\n",
    "\n",
    "---\n",
    "\n",
    "#### To try:\n",
    "\n",
    "We plotted the arithmetic spiral in the range $0 \\le \\theta \\le 6\\pi$; what happens if you change `theta_min` and `theta_max` to plot $6\\pi \\le \\theta \\le 12\\pi$ ? Change the values back after trying this out, but look at the shape it makes.\n",
    "\n",
    "What are the distances between the origin and the points where the spiral crosses the line $\\theta = 0^{\\circ}$, and how do they increase for subsquent terms? What type of series is this?\n",
    "\n",
    "\n",
    "##### Logarithmic spirals:\n",
    "\n",
    "The spiral we started with is not a log spiral. If, for log spirals, $\\dfrac{\\textrm{d} r}{\\textrm{d} \\theta} = br$; what is $r(\\theta)$? \n",
    "\n",
    "Change the line above that sets the equation of the spiral to be this new function of theta (`r_array = ...`), defining the new variable $b$ on a line above as well. Note that when multiplying and dividing NumPy arrays, the operations are element by element, unlike matricies.\n",
    "Use $b = 0.11$ to start out with, since this is a nice example case. You may find it useful to know that the NumPy module supports the natural logarithm as `np.log(...)`, the exponential function as `np.exp(...)` and also trignometric functions as e.g. `np.sin(...)`. \n",
    "\n",
    "What are the distances between the origin and the points where the logarithmic spiral crosses the line $\\theta = 0^{\\circ}$, and how do these increase for subsequent turns? What type of series do these distances form? (This is easiest to see when `b = 0.11`, `theta_min = 0` and `theta_max = 6 * np.pi`).\n",
    "\n",
    "What happens to a log spiral if instead we plot it for the range $6\\pi \\le \\theta \\le 12\\pi$ but leave $b$ the same? Keep an eye on both the shape and the numbers on the axis when you change the range. Why should we expect this behaviour, and why it is so different from the arithmetic spiral? Change the range back when you're done.\n",
    "\n",
    "What is the value of $b$ for the golden spiral? Plot a golden spiral. Note that you don't have to set $b$ to be a numeric value worked out using a calculator, but can define intermediate variables and enter the algebraic value by making use of the NumPy functions. Then try exploring other values of $b$, to make the three turns as clear as possible.\n",
    "\n",
    "It is possible to plot both an arithmetic and logarithmic spiral on the same plot using Matplotlib. Create two arrays for the radius this time: `r_array_arith` and `r_array_log`, using the two functions of $\\theta$ we've met. Repeat the `plt.polar(...)` line, for both these $r$ arrays; choose a different colour for one of them (you can use names like `'red'` and `'blue'`), and then run the code. The `b = 0.11` case is a good one to contrast to the arithmetic spiral $ r = \\frac{\\theta}{\\pi}$.\n",
    "\n",
    "You can also save images of your plots, if you want, by adding \"`plt.savefig('spiral.png')`\" to the end of the code above, modifying the name of the file to something sensible."
   ]
  }
 ],
 "metadata": {
  "kernelspec": {
   "display_name": "Python 3",
   "language": "python",
   "name": "python3"
  },
  "language_info": {
   "codemirror_mode": {
    "name": "ipython",
    "version": 3
   },
   "file_extension": ".py",
   "mimetype": "text/x-python",
   "name": "python",
   "nbconvert_exporter": "python",
   "pygments_lexer": "ipython3",
   "version": "3.6.2"
  }
 },
 "nbformat": 4,
 "nbformat_minor": 2
}
