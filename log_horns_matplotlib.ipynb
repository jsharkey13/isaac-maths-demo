{
 "cells": [
  {
   "cell_type": "markdown",
   "metadata": {},
   "source": [
    "# Logarithmic Horns\n",
    "\n",
    "This Jupyter notebook should allow you to experiment with the plotting of logarithmic horns using [Matplotlib](https://matplotlib.org/). Have a read through everything before you start running things.\n",
    "\n",
    "---\n",
    "\n",
    "Begin by importing useful libraries and initialising things for a Jupyter Notebook:"
   ]
  },
  {
   "cell_type": "code",
   "execution_count": null,
   "metadata": {},
   "outputs": [],
   "source": [
    "import numpy as np\n",
    "import matplotlib.pyplot as plt\n",
    "from mpl_toolkits.mplot3d import Axes3D\n",
    "from matplotlib import cm\n",
    "\n",
    "%matplotlib notebook "
   ]
  },
  {
   "cell_type": "markdown",
   "metadata": {},
   "source": [
    "### Plotting a horn\n",
    "\n",
    "We now define a function `draw_log_horn()` that, given the horn's parameters, will create a plot.\n",
    "The two key parameters to explore are $b$ and $w_0$ and so these have to be given each time the function is called, others can be left with sensible default values at least to start with. These default values means we can call the function without providing them. Some, like $\\alpha$ only make sense in specific ranges: $0 \\le \\alpha \\le 2\\pi$.\n",
    "\n",
    "In Python if we want to use the constant $\\pi = 3.14159265..$ we can either define it ourselves or, better, use a constant from a library like NumPy; in this case since we've imported NumPy as `np`, we can get the constant $\\pi$ using `np.pi`.\n",
    "\n",
    "We name our variables after the Greek letters and use an underscore to denote subscripts: $\\alpha$ becomes `alpha`, $\\theta$ becomes `theta`, $w_0$ becomes `w_0`.\n",
    "\n",
    "One parameter of the function we're going to define has nothing to do with the maths itself, but is instead part of our computational model: `divisions_per_radian`. In order to make a 3D plot, we need to sample the surface at many points and this allows us to adjust how many. A real function has a value at every point in space, but computers cannot cope with an infinite number of values, so we limit how many samples we use. Too few, and the plot will look rough and unlike the real function; too many and our code will never be able to work out all of the values required and may crash.\n",
    "\n",
    "The star (or asterix, `*`) as the first argument of the function definition means that arguments to this function have to be passed by name; so `draw_log_horn(0.2, 0.5)` will not work, and we have to be clear what number is what: `draw_log_horn(b=0.2, w_0=0.5)`."
   ]
  },
  {
   "cell_type": "code",
   "execution_count": null,
   "metadata": {},
   "outputs": [],
   "source": [
    "def draw_log_horn(*, b, w_0, alpha_min=0, alpha_max=2*np.pi, theta_min=-6*np.pi, theta_max=0, divisions_per_radian=8):\n",
    "\n",
    "    # Check the inputs are sensible:\n",
    "\n",
    "    if alpha_min > alpha_max:\n",
    "        print(\"Error: alpha_min must be smaller than alpha_max!\")\n",
    "        return\n",
    "    if theta_min > theta_max:\n",
    "        print(\"Error: theta_min must be smaller than theta_max!\")\n",
    "        return\n",
    "    if not(divisions_per_radian > 0 and isinstance(divisions_per_radian, int)):\n",
    "        print(\"Error: the number of divisions per radian must be a positive integer!\")\n",
    "        return\n",
    "\n",
    "    # Set up the grid of points we're going to sample at to create a surface:\n",
    "\n",
    "    alpha_range = alpha_max - alpha_min\n",
    "    alpha_array = np.linspace(alpha_min, alpha_max, int(alpha_range * divisions_per_radian))\n",
    "    \n",
    "    theta_range = theta_max - theta_min\n",
    "    theta_array = np.linspace(theta_min, theta_max, int(theta_range * divisions_per_radian))\n",
    "    \n",
    "    alpha_grid, theta_grid = np.meshgrid(alpha_array, theta_array)\n",
    "\n",
    "    # Work out the values of r and w at each point:\n",
    "\n",
    "    r_0 = 1\n",
    "    r = r_0 * np.exp(b * theta_grid)  # underlying log spiral:     r = r_0 * exp(b*theta)\n",
    "    w = w_0 * np.exp(b * theta_grid)  # circular sectional radius: w = w_0*exp(b*theta)\n",
    "\n",
    "    # Convert from angular coordinates to linear coordinates (note r and w are arrays here):\n",
    "\n",
    "    x = (r + w * np.cos(alpha_grid)) * np.cos(theta_grid)  # x = (r + w*cos(alpha))*cos(theta)\n",
    "    y = (r + w * np.cos(alpha_grid)) * np.sin(theta_grid)  # y = (r + w*cos(alpha))*sin(theta)\n",
    "    z = w * np.sin(alpha_grid)                             # z = w*sin(alpha)\n",
    "\n",
    "    # Configure matplotlib plot:\n",
    "\n",
    "    fig = plt.figure(figsize=(8, 8))  # 'figsize' is the width and height\n",
    "    ax = fig.gca(projection='3d')  # need to have imported 'Axes3D' for this to work\n",
    "    ax.view_init(45, 60)  # set the initial view angles\n",
    "    ax.w_xaxis.set_pane_color((1, 1, 1))  # set the background color on the x-axis to white\n",
    "    ax.w_yaxis.set_pane_color((1, 1, 1))  # repeat for y-axis\n",
    "    ax.w_zaxis.set_pane_color((1, 1, 1))  # repeat for z-axis\n",
    "    _axis_settings = {'grid': {'color': (0, 0, 0.8), 'linewidth': 0.3, 'linestyle': '--'}, 'color': (0, 0, 0, 1)}\n",
    "    ax.w_xaxis._axinfo.update(_axis_settings)  # change the grid settings for x\n",
    "    ax.w_yaxis._axinfo.update(_axis_settings)  # repeat for y\n",
    "    ax.w_zaxis._axinfo.update(_axis_settings)  # repeat for z\n",
    "\n",
    "    # Add the log horn surface to the plot:\n",
    "\n",
    "    ax.plot_surface(x, y, z, linewidth=0, antialiased=True, cmap=cm.Spectral_r, rstride=1, cstride=1)\n",
    "    # The first three arguments are the x, y, z arrays\n",
    "    # `linewidth=0` reduces the size of the lines joining the sample points on the surface\n",
    "    # `antialiased=True` smooths the surface\n",
    "    # `cmap` is the colour mapping: `cm.Spectral_r` is good, but also `cm.PuRd` or `cm.ocean`\n",
    "    # `rstride=1` and `cstride=1` ensure all sample points are plotted\n",
    "    \n",
    "    \n",
    "    # Force the aspect ratio equal for all axes:\n",
    "\n",
    "    max_range = np.array([x.max() - x.min(), y.max() - y.min(), z.max() - z.min()]).max() / 2\n",
    "    mid_x = (x.max() + x.min()) / 2\n",
    "    mid_y = (y.max() + y.min()) / 2\n",
    "    mid_z = (z.max() + z.min()) / 2\n",
    "    ax.set_xlim(mid_x - max_range, mid_x + max_range)\n",
    "    ax.set_ylim(mid_y - max_range, mid_y + max_range)\n",
    "    ax.set_zlim(mid_z - max_range, mid_z + max_range)\n",
    "\n",
    "    # Display the result:\n",
    "\n",
    "    plt.tight_layout()\n",
    "    plt.show()"
   ]
  },
  {
   "cell_type": "markdown",
   "metadata": {},
   "source": [
    "### Exploring the parameters\n",
    "\n",
    "We start off with the values $b = 0.2$ and $w_0 = \\frac{1}{2}r_0 = 0.5$, which produce a log horn like that on the cover of the book. These are given as arguments when we call the function we've just defined. Some of the function parameters have default values which means we don't have to specify them every time, but can provide them to override the defaults if we want to see what happens. So we'll start with `draw_log_horn(b=0.2, w_0=0.5)`.\n",
    "\n",
    "When you're running this notebook yourself for the first time, go to the menu at the top and click \"Cell\" -> \"Run All\". Look at the plot this produces below (you may need to mouse over it to see it initially). To explore you can drag the view of the plot around, and then you can change the arguments of the function in the cell below and press `Ctrl-Enter` to re-run that cell and update the plot.\n",
    "\n",
    "Things you might like to try:\n",
    "\n",
    "* How does changing the value of $w_0$ compared to the fixed value of $r_0 = 1$ affect the spiral? Try $w_0 \\ll r_0$,  $w_0 = r_0$  or  $w_0 > r_0$.\n",
    "* What happens if $\\alpha$ does not start at $0$? Try increasing the value of `alpha_min` when calling `draw_log_horn()`.\n",
    "* We've plotted $\\theta$ in the range $-6\\pi \\le \\theta \\le 0$ (i.e. `theta_min = -6*np.pi` and `theta_max = 0`).\n",
    "  What happens to the shape of the plot if you use the range $0 \\le \\theta \\le 6\\pi$, say, or even $-4\\pi \\le \\theta \\le 2\\pi$? \n",
    "  What property of the log horn does this demonstrate?"
   ]
  },
  {
   "cell_type": "code",
   "execution_count": null,
   "metadata": {},
   "outputs": [],
   "source": [
    "draw_log_horn(b=0.2, w_0=0.5)"
   ]
  }
 ],
 "metadata": {
  "kernelspec": {
   "display_name": "Python 3",
   "language": "python",
   "name": "python3"
  },
  "language_info": {
   "codemirror_mode": {
    "name": "ipython",
    "version": 3
   },
   "file_extension": ".py",
   "mimetype": "text/x-python",
   "name": "python",
   "nbconvert_exporter": "python",
   "pygments_lexer": "ipython3",
   "version": "3.6.2"
  }
 },
 "nbformat": 4,
 "nbformat_minor": 2
}
