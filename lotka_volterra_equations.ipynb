{
 "cells": [
  {
   "cell_type": "markdown",
   "metadata": {},
   "source": [
    "# The Lotka-Volterra Equations\n",
    "\n",
    "This Jupyter notebook should allow you to experiment with numerically solving the Lotka-Volterra equations using [SciPy](https://www.scipy.org/) and plotting the results using [Matplotlib](https://matplotlib.org/). Have a read through everything before you start running things.\n",
    "\n",
    "---\n",
    "\n",
    "We begin by importing useful libraries and initialising things for a Jupyter Notebook:"
   ]
  },
  {
   "cell_type": "code",
   "execution_count": null,
   "metadata": {},
   "outputs": [],
   "source": [
    "import numpy as np\n",
    "import scipy.integrate\n",
    "import matplotlib.pyplot as plt\n",
    "\n",
    "%matplotlib notebook"
   ]
  },
  {
   "cell_type": "markdown",
   "metadata": {},
   "source": [
    "### The differential equations\n",
    "\n",
    "The Lotka-Volterra equations are two coupled differential equations for predator and prey populations, $y(t)$ and $z(t)$. We are using the symbol $t$ here, but it should be noted that this is really the scaled time, $u$, from the book.\n",
    "\n",
    "The equations then become:\n",
    "\n",
    "$$\n",
    "\\hspace{-100px}\\begin{cases}\n",
    "    \\dfrac{\\textrm{d}y}{\\textrm{d}t} &\\equiv y' &= zy - \\beta y &= (z - \\beta) y \\\\ \\\\\n",
    "    \\dfrac{\\textrm{d}z}{\\textrm{d}t} &\\equiv z' &= z - zy &= (1 - y) z\n",
    "\\end{cases}\n",
    "$$\n",
    "\n",
    "which are the driving equations of the population dynamics, and we have simplified them as much as we can. In order to solve them, we have to model both $y$ and $z$ together. We can do this by defining a vector (represented as a list in Python) of the $y$ and $z$ values and numerically integrating this:\n",
    "\n",
    "`populations = [y, z]`.\n",
    "\n",
    "---\n",
    "\n",
    "To do this, we should first define a function `population_derivatives(...)` to represent these two differential equations, which we can then integrate (given boundary conditions) to find the populations at any given time.\n",
    "\n",
    "It needs to take a vector of the populations, the time, and the parameter $\\beta$ ; it must return the vector of the derivatives at that point. Note that these equations have no explicit $t$ dependence, but the SciPy library function we're going to use to do the integration doesn't know this; it will pass $t$ in as the second argument to our function, so we have to just ignore it.\n",
    "\n",
    "We'll denote the derivatives in Python with $y'$ as `y_prime` and $z'$ as `z_prime`."
   ]
  },
  {
   "cell_type": "code",
   "execution_count": null,
   "metadata": {},
   "outputs": [],
   "source": [
    "def population_derivatives(populations, t, beta):\n",
    "    # Extract y and z from the list:\n",
    "    y = populations[0]\n",
    "    z = populations[1]\n",
    "\n",
    "    # Evaluate the derivatives at this point:\n",
    "    y_prime = (z - beta) * y\n",
    "    z_prime = (1 - y) * z\n",
    "\n",
    "    # Return the vector of derivatives (as a list):\n",
    "    return [y_prime, z_prime]"
   ]
  },
  {
   "cell_type": "markdown",
   "metadata": {},
   "source": [
    "### Integrating the equations\n",
    "\n",
    "We can now attempt to integrate this function numerically, using a method from the SciPy library: `scipy.integrate.odeint(...)`. We provide this with the Python version of the mathematical function we want to integrate, in this case `population_derivatives(...)`; the initial conditions; the times we want to know the result at; and finally any arguments (beyond the populations and time) that the function we're integrating needs, in this case $\\beta$.\n",
    "\n",
    "This SciPy method returns the populations at each instant of time we asked for as a two-dimensional array with $y(t)$ in the first column and $z(t)$ in the second. We can then extract $y$ and $z$ and plot them.\n",
    "\n",
    "We must also decide what times we want to know the populations at; for now $1000$ evenly distributed samples in the range $0 \\le t \\le 16$ is enough to clearly see the behaviour, remembering that the units of $t$ are somewhat arbitrary due to the scaling. The mathematical functions are defined for every point in time, but computers cannot cope with an infinite number of values; instead we sample our function at this fixed number of points. Too few, and the plot will look rough and unlike the real function; too many and our code will never be able to work out all of the values required and may crash."
   ]
  },
  {
   "cell_type": "code",
   "execution_count": null,
   "metadata": {},
   "outputs": [],
   "source": [
    "# Set the one parameter left after scaling:\n",
    "beta = 0.7\n",
    "\n",
    "# Set the initial conditions for y and z:\n",
    "y_0 = 0.1\n",
    "z_0 = 0.7\n",
    "\n",
    "# Decide the times we want to know the values of y and z at:\n",
    "t_min = 0\n",
    "t_max = 16\n",
    "number_of_samples = 1000  # how many points to sample the populations at for plotting\n",
    "t = np.linspace(t_min, t_max, number_of_samples)  # points in time to evaluate populations at\n",
    "\n",
    "# Set the initial populations:\n",
    "initial_populations = np.array([y_0, z_0])\n",
    "\n",
    "# Integrate the two differential equations at the same time:\n",
    "# The function `odeint(...)` takes the function to integrate as its first argument,\n",
    "# initial conditions second, the time array third,\n",
    "# and then `args`, the additional arguments to population_derivatives(...)\n",
    "solution_list = scipy.integrate.odeint(population_derivatives, initial_populations, t, args=(beta,))\n",
    "\n",
    "# Unpack the solution vector into its component arrays:\n",
    "y = solution_list[:, 0]  # extract column 0, the y values\n",
    "z = solution_list[:, 1]  # extract column 1, the z values\n",
    "\n",
    "# Plot y and z values against time on the same plot:\n",
    "plt.figure()\n",
    "plt.title(\"The Lotka-Volterra Equations\")\n",
    "plt.plot(t, y, color='r', label='y(t)')\n",
    "plt.plot(t, z, color='k', label='z(t)')\n",
    "plt.legend(loc='best')  # add a plot legend\n",
    "plt.xlabel('t', style='italic')  # add x-axis label\n",
    "plt.ylabel('y, z', style='italic')  # add y-axis label\n",
    "plt.gca().set_xlim(t[0], t[-1])  # show only the time range we calculated\n",
    "plt.gca().set_ylim(bottom=0)  # populations cannot be negative, so y,z > 0\n",
    "\n",
    "# Display the result:\n",
    "plt.tight_layout()\n",
    "plt.show()"
   ]
  },
  {
   "cell_type": "markdown",
   "metadata": {},
   "source": [
    "### Exploring the parameters\n",
    "\n",
    "We started with some values, $\\beta = 0.7$, $y_{0} = 0.1$, $z_{0} = 0.7$ that show the curves leading and following. Which of $y$ and $z$ is predator and which is prey? Instead of labelling them with letters, we could have called the Python variables `predator` and `prey`, with `initial_predator` and `initial_prey`, to be more clear. We could also change the labels on the plot to say which curve is which more clearly.\n",
    "\n",
    "When you're running this notebook yourself for the first time, go to the menu at the top and click \"Cell\" -> \"Run All\". Look at the plot this produces above. To explore, you can change the parameters in the cell above and press Ctrl-Enter to re-run that cell and update the plot.\n",
    "\n",
    "---\n",
    "\n",
    "#### To try:\n",
    "\n",
    "Consider now the case where there are no predators to start with; modify the initial conditions to reflect this, leaving $\\beta$ and the other initial condition the same. What would you expect to happen? If you run the code, does the plot reflect this? Does the model used by the Lotka-Volterra equations really hold true in this case?\n",
    "\n",
    "Try the case where there is no longer any prey; set the initial predator value back to the one above, and set the initial prey to zero. What do you expect to happen to the predator population? Does the plot reflect this?\n",
    "\n",
    "What values of $y_{0}$ and $z_{0}$ are required for stable populations of both predator and prey? This was Ex 7.5.5c in the book. What plot would you expect for stable populations, and does this model correctly demonstrate it?\n",
    "\n",
    "You can also save images of your plots, if you want, by adding \"`plt.savefig('lotka-volterra.png')`\" to the end of the code above, modifying the name of the file to something sensible."
   ]
  }
 ],
 "metadata": {
  "kernelspec": {
   "display_name": "Python 3",
   "language": "python",
   "name": "python3"
  },
  "language_info": {
   "codemirror_mode": {
    "name": "ipython",
    "version": 3
   },
   "file_extension": ".py",
   "mimetype": "text/x-python",
   "name": "python",
   "nbconvert_exporter": "python",
   "pygments_lexer": "ipython3",
   "version": "3.6.2"
  }
 },
 "nbformat": 4,
 "nbformat_minor": 2
}
