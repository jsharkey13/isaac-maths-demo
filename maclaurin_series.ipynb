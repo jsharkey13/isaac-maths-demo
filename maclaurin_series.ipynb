{
 "cells": [
  {
   "cell_type": "markdown",
   "metadata": {},
   "source": [
    "# Maclaurin Series\n",
    "\n",
    "This Jupyter notebook should allow you to experiment with Maclaurin series using [NumPy](https://www.numpy.org/).\n",
    "\n",
    "---\n",
    "\n",
    "Begin by importing NumPy:"
   ]
  },
  {
   "cell_type": "code",
   "execution_count": null,
   "metadata": {},
   "outputs": [],
   "source": [
    "import numpy as np"
   ]
  },
  {
   "cell_type": "markdown",
   "metadata": {},
   "source": [
    "### The Maclaurin series\n",
    "\n",
    "The Maclaurin series is a series expansion of a function, $f(x)$ about $x = 0$, in increasing integer powers of $x$:\n",
    "\n",
    "$$\\hspace{-100px}\\eqalign{\n",
    "f(x) &= f(0) + \\frac{f^{\\prime}(0) x}{1!} + \\frac{f^{\\prime \\prime}(0) x^2}{2!} + \\dots \\frac{f^{(r)}(0) x^r}{r!} + \\dots \\cr\n",
    "&= \\sum_{n = 0}^{\\infty} \\frac{f^{(n)}(0) x^{n}}{n!} }$$\n",
    "\n",
    "For many common functions, the Maclaurin series rapidly converges on the real value of the function for certain values of $x$. We'll look at the exponential function, which has the simplest Maclaurin series, and see how many terms it takes to get an accurate value.\n",
    "\n",
    "---\n",
    "\n",
    "We'll start by defining a function that will print the value of the sum so far term by term, in a nice table format. We're going to make it do clever things, like automatically find the real value $f(x)$ based on the name of the function we pass into it.\n",
    "\n",
    "The `print_maclaurin_table(...)` function takes _another_ function called `term` as an argument. This `term(...)` function should return the $r$-th term of the Macluarin series at point $x$, for whatever mathematical function we're considering. We'll do something clever and use the name of the function provided to see if the NumPy module knows what the function is. If it does, we'll print the value of series term by term in a table and show the difference from the real value.\n",
    "\n",
    "The way this function is written means we can print different Maclaurin series easily.\n",
    "\n",
    "**You do not need to know how any of this function works in order to explore the mathematics!**"
   ]
  },
  {
   "cell_type": "code",
   "execution_count": null,
   "metadata": {},
   "outputs": [],
   "source": [
    "def print_maclaurin_table(*, term, x, max_terms=15):\n",
    "    # Don't print tables that are ridiculously long:\n",
    "    if max_terms >= 100:\n",
    "        print(\"Too many terms; for this demo use less than 100 terms!\")\n",
    "        return\n",
    "\n",
    "    # Check to see if NumPy supports this function:\n",
    "    # We expect the function to be named the same as the real\n",
    "    # mathematical function but with \"_term\" on the end.\n",
    "    function_name = term.__name__.replace(\"_term\", \"\")\n",
    "    if not hasattr(np, function_name):\n",
    "        # We don't know what this function is; abort.\n",
    "        print(\"Unknown function '{0}'!\".format(function_name))\n",
    "        return\n",
    "\n",
    "    # Now we work out the real value of f(x):\n",
    "    real_function = getattr(np, function_name)  # i.e. if called with `term=sin_term`, then getattr\n",
    "    real_value = real_function(x)               # will return np.sin and we can then do np.sin(x)\n",
    "    \n",
    "    # Then we work out the values of the terms:\n",
    "    terms = np.zeros(max_terms)  # this gives us an empty array\n",
    "    for r in range(max_terms):\n",
    "        terms[r] = term(r=r, x=x)  # we set each value using the term function provided\n",
    "    \n",
    "    # Then we can work out the cumulative sum of the terms,\n",
    "    # and the differences from the real value:\n",
    "    result_to_r = np.cumsum(terms)\n",
    "    differences = result_to_r - real_value\n",
    "    \n",
    "    #####\n",
    "    # Everything below here in this function is just to print the table:\n",
    "    #####\n",
    "\n",
    "    # These string and width values are used to make the table look nice:\n",
    "    widest_num_width = max(len(str(int(real_value))), len(str(int(result_to_r[-1]))))\n",
    "    column_width = 16 + widest_num_width\n",
    "    num_width = column_width - 2  # numbers are two spaces smaller than the column width\n",
    "    column_heading = \"{0}(x) so far\".format(function_name)  # add function name to column\n",
    "    table_heading = \"| Term |{0:^{width}}|{1:^{width}}|{2:^{width}}|\".format(\"Term Value\", column_heading,\n",
    "                                                                             \"Error\", width=column_width)\n",
    "    table_separator = \"|\" + (\"-\" * 6) + ((\"|\" + (\"-\" * column_width)) * 3) + \"|\"\n",
    "    table_base = (\"-\" * 8) + (\" \" * column_width) + (\"-\" * (column_width + 2))\n",
    "    title = \"Evaluating {0}({1})\".format(function_name, x)\n",
    "    title = title.center(len(table_separator))  # centre align to width of table\n",
    "    title = \"|{0:s}|\".format(title[1:-1])  # add |'s to each end of the title\n",
    "\n",
    "    # Then we actually print the top of the table:\n",
    "    print(table_separator.replace(\"|\", \"-\"))\n",
    "    print(title)\n",
    "    print(table_separator.replace(\"|\", \"-\"))\n",
    "    print(table_heading)\n",
    "    print(table_separator)\n",
    "\n",
    "    # Now we print the rows of the table:\n",
    "    for r in range(max_terms):\n",
    "        term_number = r + 1  # The sum goes from 0 to infinity, but humans count from 1\n",
    "        # Print a row of the table, with the three values formatted nicely:\n",
    "        print(\"|  {0:-2d}  | {1: {width}.12f} | {2: {width}.12f} | {3:+{width}.12f} |\"\n",
    "              .format(term_number, terms[r], result_to_r[r], differences[r], width=num_width))\n",
    "\n",
    "    # Then we print the real value at the bottom:\n",
    "    print(table_separator)\n",
    "    print(\"| Real |{0}| {1: {width}.12f} |\".format(\" \" * column_width, real_value, width=num_width))\n",
    "    print(table_base)"
   ]
  },
  {
   "cell_type": "markdown",
   "metadata": {},
   "source": [
    "#### The exponential function\n",
    "\n",
    "Now we need to work out the $r$-th term of the Maclaurin series for $e^{x}$. This is easy, since $\\frac{\\textrm{d}}{\\textrm{d}x}e^{x} = e^{x}$ and so $f(0) = f'(0) = f''(0) = \\ldots = 1$.\n",
    "\n",
    "Thus the $r$-th term of the Maclaurin series for $e^{x}$ is just $\\dfrac{x^{r}}{r!}$ and we can easily make this into a Python function called `exp_term(...)`."
   ]
  },
  {
   "cell_type": "code",
   "execution_count": null,
   "metadata": {},
   "outputs": [],
   "source": [
    "def exp_term(r, x):\n",
    "    return np.power(x, r) / np.math.factorial(r)\n",
    "\n",
    "#####\n",
    "\n",
    "def sin_term(r, x):\n",
    "    return np.power(-1, r) * np.power(x, 2 * r + 1) / np.math.factorial(2 * r + 1)\n",
    "\n",
    "def cos_term(r, x):\n",
    "    return np.power(-1, r) * np.power(x, 2 * r) / np.math.factorial(2 * r)\n",
    "\n",
    "def cosh_term(r, x):\n",
    "    return np.power(x, 2 * r) / np.math.factorial(2 * r)\n",
    "\n",
    "def sinh_term(r, x):\n",
    "    return np.power(x, 2 * r + 1) / np.math.factorial(2 * r + 1)"
   ]
  },
  {
   "cell_type": "markdown",
   "metadata": {},
   "source": [
    "### Exploring the results:\n",
    "\n",
    "We can use the Maclaurin series to work out the value of $e^{1}$, also known as Euler's constant or just $e$.\n",
    "\n",
    "When you're running this notebook yourself for the first time, go to the menu at the top and click \"Cell\" -> \"Run All\". Look at the table output this produces below. To explore, you can change the parameters in the cell below and press Ctrl-Enter to re-run that cell and update the table.\n",
    "\n",
    "The table contains four columns: `Term`, which just records how many terms we've added so far, `Term Value` with is the value of the $r$-th term, `exp(x) so far` which is a sum of all the terms up to and including this one, and then `Error` which shows how far from the true value this many terms is. Note that for really large or really small values, computers start to make mistakes due to \"floating point errors\". We're also only printing 12 decimal places, so really small values won't be useful.\n",
    "\n",
    "#### Things to try:\n",
    "\n",
    "* We can see that the value we get for $e$ is correct to 3 significant figures within 6 terms of the series. If we choose a smaller but still positive value for $x$, does the series get closer to the true value in fewer terms? Try changing it to `x=0.1` below, and re-run the cell. Why should we expect this behaviour from a Maclaurin series?\n",
    "* What happens for larger values of $x$? Try $x = 5$; does the error decrease with each subsequent term we add? What about $x = 6$?\n",
    "* What happens for negative numbers? The case `x=-6` is a good example of this. What happens to the error after terms 3 to 10? The series does converge, but it will take far more terms that we're willing to evaluate. Is there a better way to calculate the negative exponential $e^{-x}$ given $e^{x}$?\n",
    "* Try defining a function `sin_term(r, x)` below (but above the existing function call) that gives the $r$-th Maclaurin term for the function $\\sin(x)$. Use the formula at the top of the page, and look for a pattern in the non-zero terms. Replace `term=exp_term` in the `print_maclaurin_table(...)` call below with `term=sin_term`, and explore the results for different values of $x$ like $\\frac{\\pi}{2}$ and $\\pi$.\n",
    "* You could also try defining `cos_term(r, x)`, `sinh_term(r, x)` and `cosh_term(r, x)` if you know how to differentiate the functions $\\cos(x)$, $\\sinh(x)$ and $\\cosh(x)$. These are the only simple functions with Maclaurin series that sum from $n = 0$. Once you have defined them, try calling `print_maclaurin_table(...)` with `term=cos_term` etc."
   ]
  },
  {
   "cell_type": "code",
   "execution_count": null,
   "metadata": {},
   "outputs": [],
   "source": [
    "print_maclaurin_table(x=1, term=exp_term)"
   ]
  }
 ],
 "metadata": {
  "kernelspec": {
   "display_name": "Python 3",
   "language": "python",
   "name": "python3"
  },
  "language_info": {
   "codemirror_mode": {
    "name": "ipython",
    "version": 3
   },
   "file_extension": ".py",
   "mimetype": "text/x-python",
   "name": "python",
   "nbconvert_exporter": "python",
   "pygments_lexer": "ipython3",
   "version": "3.6.2"
  }
 },
 "nbformat": 4,
 "nbformat_minor": 2
}
